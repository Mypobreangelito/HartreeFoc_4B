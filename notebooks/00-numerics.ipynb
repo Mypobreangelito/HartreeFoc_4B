{
 "cells": [
  {
   "cell_type": "markdown",
   "id": "39ad98ee",
   "metadata": {},
   "source": [
    "# 00 — Numerics (Semana 1)\n",
    "Plan: ver bitacoras/bitacora_semana01.md"
   ]
  },
  {
   "cell_type": "code",
   "execution_count": null,
   "id": "0ad48b03",
   "metadata": {},
   "outputs": [],
   "source": [
    "import numpy as np\n",
    "import matplotlib.pyplot as plt\n",
    "from src.qm.numerics import residuo, ortonormalidad"
   ]
  },
  {
   "cell_type": "code",
   "execution_count": null,
   "id": "73854949",
   "metadata": {},
   "outputs": [],
   "source": [
    "# TODO: genera matrices y evalúa eig/eigh aquí"
   ]
  }
 ],
 "metadata": {},
 "nbformat": 4,
 "nbformat_minor": 5
}
